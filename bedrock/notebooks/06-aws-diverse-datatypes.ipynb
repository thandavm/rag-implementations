{
 "cells": [
  {
   "cell_type": "code",
   "execution_count": null,
   "metadata": {},
   "outputs": [],
   "source": [
    "import boto3\n",
    "\n",
    "s3_client = boto3.client('s3')\n",
    "transcribe = boto3.client('transcribe')"
   ]
  },
  {
   "cell_type": "code",
   "execution_count": null,
   "metadata": {},
   "outputs": [],
   "source": [
    "audio_file_uri = \n",
    "audio_file_format = 'mp3'\n",
    "transcript_file_key = \n"
   ]
  },
  {
   "cell_type": "code",
   "execution_count": null,
   "metadata": {},
   "outputs": [],
   "source": [
    "import uuid\n",
    "job_name = 'transcribe-job-' + uuid.UUID\n",
    "\n",
    "response = transcribe.start_transcription_job(\n",
    "    TranscriptionJobName=job_name,\n",
    "    Media={\n",
    "        'MediaFileUri': audio_file_uri\n",
    "    },\n",
    "    MediaFormat=audio_file_format,\n",
    "    LanguageCode='en-US',\n",
    "    OutputBucketName=INPUT_BUCKET,\n",
    "    OutputKey=transcript_file_key\n",
    "    \n",
    ") "
   ]
  }
 ],
 "metadata": {
  "language_info": {
   "name": "python"
  }
 },
 "nbformat": 4,
 "nbformat_minor": 2
}
