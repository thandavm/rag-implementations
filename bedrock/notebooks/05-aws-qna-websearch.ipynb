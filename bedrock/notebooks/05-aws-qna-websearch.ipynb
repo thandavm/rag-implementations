{
 "cells": [
  {
   "cell_type": "markdown",
   "metadata": {},
   "source": [
    "## Using LangChain Tools and Agents to do a WebSearch and Math Calculation"
   ]
  },
  {
   "cell_type": "markdown",
   "metadata": {},
   "source": [
    "#### 1.  Declare a tool for Searching the internet"
   ]
  },
  {
   "cell_type": "code",
   "execution_count": 18,
   "metadata": {},
   "outputs": [],
   "source": [
    "from langchain.agents import load_tools\n",
    "from langchain import SerpAPIWrapper\n",
    "from langchain.agents import Tool\n",
    "import os\n",
    "\n",
    "search = SerpAPIWrapper()\n",
    "websearch_tool = Tool(\n",
    "    name = \"Search\",\n",
    "    func=search.run,\n",
    "    description=\"Use this to lookup information from google search \\\n",
    "                engine\",\n",
    ")"
   ]
  },
  {
   "cell_type": "markdown",
   "metadata": {},
   "source": [
    "#### 2.  Declare a tool for doing Math Calcualtion"
   ]
  },
  {
   "cell_type": "code",
   "execution_count": 25,
   "metadata": {},
   "outputs": [
    {
     "name": "stderr",
     "output_type": "stream",
     "text": [
      "/Users/thandavm/anaconda3/lib/python3.11/site-packages/langchain/chains/llm_math/base.py:56: UserWarning: Directly instantiating an LLMMathChain with an llm is deprecated. Please instantiate with llm_chain argument or using the from_llm class method.\n",
      "  warnings.warn(\n"
     ]
    }
   ],
   "source": [
    "from langchain import LLMMathChain\n",
    "import boto3\n",
    "from langchain.llms import Bedrock\n",
    "\n",
    "math_llm = Bedrock(model_id=\"anthropic.claude-instant-v1\",\n",
    "                         model_kwargs={\"temperature\":0,\"stop_sequences\" : [\"```output\"]})\n",
    "\n",
    "llm_math_chain = LLMMathChain(llm=math_llm, verbose=True)\n",
    "\n",
    "llm_math_chain.llm_chain.prompt.template = \"\"\"Human: Given a question with a math problem, provide only a single line mathematical expression that solves the problem in the following format. Don't solve the expression only create a parsable expression.\n",
    "```text\n",
    "${{single line mathematical expression that solves the problem}}\n",
    "```\n",
    "\n",
    "Assistant:\n",
    " Here is an example response with a single line mathematical expression for solving a math problem:\n",
    "```text\n",
    "37593**(1/5)\n",
    "```\n",
    "\n",
    "Human: {question}\n",
    "\n",
    "Assistant:\"\"\"\n",
    "\n",
    "math_tool = Tool(\n",
    "    name = \"Calculator\",\n",
    "    func=llm_math_chain.run,\n",
    "    description=\"Useful for when you need to answer questions about math\",\n",
    ")"
   ]
  },
  {
   "cell_type": "markdown",
   "metadata": {},
   "source": [
    "#### 3.  Add tools in a tool Array"
   ]
  },
  {
   "cell_type": "code",
   "execution_count": 26,
   "metadata": {},
   "outputs": [],
   "source": [
    "\n",
    "tools = [websearch_tool, math_tool]"
   ]
  },
  {
   "cell_type": "markdown",
   "metadata": {},
   "source": [
    "#### 4.  Create an Agent and add the tools as actions for the Agent"
   ]
  },
  {
   "cell_type": "code",
   "execution_count": 27,
   "metadata": {},
   "outputs": [],
   "source": [
    "\n",
    "\n",
    "from langchain.agents import initialize_agent\n",
    "from langchain.agents import AgentType\n",
    "\n",
    "model_parameter = {\"temperature\": 0.0, \"top_p\": .5, \"max_tokens_to_sample\": 2000}\n",
    "react_agent_llm = Bedrock(model_id=\"anthropic.claude-instant-v1\", model_kwargs=model_parameter)\n",
    "\n",
    "react_agent = initialize_agent(tools, \n",
    "                               react_agent_llm, \n",
    "                               agent=AgentType.ZERO_SHOT_REACT_DESCRIPTION, \n",
    "                               verbose=True,\n",
    "                            #    max_iteration=2,\n",
    "                            #    return_intermediate_steps=True,\n",
    "                            #    handle_parsing_errors=True,\n",
    "                               )"
   ]
  },
  {
   "cell_type": "markdown",
   "metadata": {},
   "source": [
    "#### 5.  Invoke the Agent"
   ]
  },
  {
   "cell_type": "code",
   "execution_count": 28,
   "metadata": {},
   "outputs": [],
   "source": [
    "prompt_template = \"\"\"Use the following format:\n",
    "Question: the input question you must answer\n",
    "Thought: you should always think about what to do, Also try to follow steps mentioned above\n",
    "Action: the action to take, should be one of [\"Search\", \"Calculator\"]\n",
    "Action Input: the input to the action\n",
    "Observation: the result of the action\n",
    "... (this Thought/Action/Action Input/Observation can repeat N times)\n",
    "Thought: I now know the final answer\n",
    "Final Answer: the final answer to the original input question\n",
    "\n",
    "Question: {input}\n",
    "\n",
    "Assistant:\n",
    "{agent_scratchpad}\"\"\"\n",
    "\n",
    "react_agent.agent.llm_chain.prompt.template=prompt_template\n",
    "\n"
   ]
  },
  {
   "cell_type": "code",
   "execution_count": 29,
   "metadata": {},
   "outputs": [
    {
     "name": "stdout",
     "output_type": "stream",
     "text": [
      "\n",
      "\n",
      "\u001b[1m> Entering new AgentExecutor chain...\u001b[0m\n",
      "\u001b[32;1m\u001b[1;3m Here is the step-by-step process:\n",
      "\n",
      "Question: What is Amazon SageMaker? What is the launch year multiplied by 2\n",
      "\n",
      "Thought: I need to search online to find out what Amazon SageMaker is and use a calculator to multiply the launch year by 2.\n",
      "\n",
      "Action: Search  \n",
      "Action Input: \"Amazon SageMaker\"\n",
      "\u001b[0m\n",
      "Observation: \u001b[36;1m\u001b[1;3m['Amazon SageMaker is a cloud based machine-learning platform that enables developers to create, train, and deploy machine-learning models on the cloud. It also enables developers to deploy ML models on embedded systems and edge-devices. SageMaker was launched in November 2017.', 'Amazon SageMaker kgmid: /g/11h3yhqxn_.', 'Amazon SageMaker initial_release_date: November 29, 2017.', 'Amazon SageMaker developer: Amazon Web Services, Amazon.com.', \"High-performance, low-cost ML at scale. Amazon SageMaker is built on Amazon's two decades of experience developing real-world ML applications, ...\"]\u001b[0m\n",
      "Thought:\u001b[32;1m\u001b[1;3m Now I know what Amazon SageMaker is. Next I need to multiply the launch year by 2.\n",
      "\n",
      "Action: Calculator\n",
      "Action Input: 2017 * 2\n",
      "\u001b[0m\n",
      "\n",
      "\u001b[1m> Entering new LLMMathChain chain...\u001b[0m\n",
      "2017 * 2\n",
      "\u001b[32;1m\u001b[1;3m ```text\n",
      "2017 * 2\n",
      "```\u001b[0m\n",
      "Answer: \u001b[33;1m\u001b[1;3m4034\u001b[0m\n",
      "\u001b[1m> Finished chain.\u001b[0m\n",
      "\n",
      "Observation: \u001b[33;1m\u001b[1;3mAnswer: 4034\u001b[0m\n",
      "Thought:\u001b[32;1m\u001b[1;3m I now have the final answer to the original question.\n",
      "\n",
      "Final Answer: Amazon SageMaker is a cloud based machine-learning platform launched by Amazon Web Services in November 2017. The launch year multiplied by 2 is 4034.\u001b[0m\n",
      "\n",
      "\u001b[1m> Finished chain.\u001b[0m\n"
     ]
    },
    {
     "data": {
      "text/plain": [
       "{'input': 'What is Amazon SageMaker? What is the launch year multiplied by 2',\n",
       " 'output': 'Amazon SageMaker is a cloud based machine-learning platform launched by Amazon Web Services in November 2017. The launch year multiplied by 2 is 4034.'}"
      ]
     },
     "execution_count": 29,
     "metadata": {},
     "output_type": "execute_result"
    }
   ],
   "source": [
    "#question = 'who is the president of America'\n",
    "question = \"What is Amazon SageMaker? What is the launch year multiplied by 2\"\n",
    "react_agent(question)"
   ]
  }
 ],
 "metadata": {
  "kernelspec": {
   "display_name": "base",
   "language": "python",
   "name": "python3"
  },
  "language_info": {
   "codemirror_mode": {
    "name": "ipython",
    "version": 3
   },
   "file_extension": ".py",
   "mimetype": "text/x-python",
   "name": "python",
   "nbconvert_exporter": "python",
   "pygments_lexer": "ipython3",
   "version": "3.11.5"
  }
 },
 "nbformat": 4,
 "nbformat_minor": 2
}
